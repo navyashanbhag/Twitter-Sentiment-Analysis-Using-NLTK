{
 "cells": [
  {
   "cell_type": "markdown",
   "id": "b42d8705-a91a-433d-9366-affbe95d2645",
   "metadata": {},
   "source": [
    "# Twitter sentient analysis using NLTK and Machine learning"
   ]
  },
  {
   "cell_type": "code",
   "execution_count": 1,
   "id": "c0b9cfd7-1789-4fec-8d5f-beb758be2d86",
   "metadata": {},
   "outputs": [],
   "source": [
    "import re\n",
    "import numpy as np\n",
    "import pandas as pd\n",
    "# plotting\n",
    "import seaborn as sns\n",
    "import matplotlib.pyplot as plt\n",
    "# nltk\n",
    "from nltk.stem import WordNetLemmatizer\n",
    "# sklearn\n",
    "from sklearn.svm import LinearSVC\n",
    "from sklearn.linear_model import LogisticRegression\n",
    "from sklearn.model_selection import train_test_split\n",
    "from sklearn.feature_extraction.text import TfidfVectorizer\n",
    "from sklearn.metrics import confusion_matrix, classification_report\n",
    "from nltk.corpus import stopwords"
   ]
  },
  {
   "cell_type": "markdown",
   "id": "ac38904a-34e4-4b83-8477-d22927cd3619",
   "metadata": {},
   "source": [
    "### Exploratory data analysis"
   ]
  },
  {
   "cell_type": "code",
   "execution_count": 3,
   "id": "e3907b13-c09d-4938-b165-e1023b35133f",
   "metadata": {},
   "outputs": [
    {
     "data": {
      "text/html": [
       "<div>\n",
       "<style scoped>\n",
       "    .dataframe tbody tr th:only-of-type {\n",
       "        vertical-align: middle;\n",
       "    }\n",
       "\n",
       "    .dataframe tbody tr th {\n",
       "        vertical-align: top;\n",
       "    }\n",
       "\n",
       "    .dataframe thead th {\n",
       "        text-align: right;\n",
       "    }\n",
       "</style>\n",
       "<table border=\"1\" class=\"dataframe\">\n",
       "  <thead>\n",
       "    <tr style=\"text-align: right;\">\n",
       "      <th></th>\n",
       "      <th>target</th>\n",
       "      <th>ids</th>\n",
       "      <th>date</th>\n",
       "      <th>flag</th>\n",
       "      <th>user</th>\n",
       "      <th>text</th>\n",
       "    </tr>\n",
       "  </thead>\n",
       "  <tbody>\n",
       "    <tr>\n",
       "      <th>1407001</th>\n",
       "      <td>4</td>\n",
       "      <td>2055444861</td>\n",
       "      <td>Sat Jun 06 09:19:45 PDT 2009</td>\n",
       "      <td>NO_QUERY</td>\n",
       "      <td>lownleeeynjul</td>\n",
       "      <td>@Boy_Kill_Boy yup! Can DM it too if you want  ...</td>\n",
       "    </tr>\n",
       "    <tr>\n",
       "      <th>152087</th>\n",
       "      <td>0</td>\n",
       "      <td>1932660868</td>\n",
       "      <td>Tue May 26 21:56:15 PDT 2009</td>\n",
       "      <td>NO_QUERY</td>\n",
       "      <td>EnglandRose</td>\n",
       "      <td>@rob_alexander hellz no boiiii. I'm good at th...</td>\n",
       "    </tr>\n",
       "    <tr>\n",
       "      <th>893401</th>\n",
       "      <td>4</td>\n",
       "      <td>1691862133</td>\n",
       "      <td>Sun May 03 18:46:07 PDT 2009</td>\n",
       "      <td>NO_QUERY</td>\n",
       "      <td>lotay</td>\n",
       "      <td>@heathermeeker I would read your blog!</td>\n",
       "    </tr>\n",
       "    <tr>\n",
       "      <th>804966</th>\n",
       "      <td>4</td>\n",
       "      <td>1468598407</td>\n",
       "      <td>Tue Apr 07 02:38:35 PDT 2009</td>\n",
       "      <td>NO_QUERY</td>\n",
       "      <td>lowcarbondiary</td>\n",
       "      <td>@karmadillo Thanks  @juliankimmings sorted me ...</td>\n",
       "    </tr>\n",
       "    <tr>\n",
       "      <th>904224</th>\n",
       "      <td>4</td>\n",
       "      <td>1694791593</td>\n",
       "      <td>Mon May 04 04:08:19 PDT 2009</td>\n",
       "      <td>NO_QUERY</td>\n",
       "      <td>JMensing</td>\n",
       "      <td>Looking forward to a session at the gym</td>\n",
       "    </tr>\n",
       "  </tbody>\n",
       "</table>\n",
       "</div>"
      ],
      "text/plain": [
       "         target         ids                          date      flag  \\\n",
       "1407001       4  2055444861  Sat Jun 06 09:19:45 PDT 2009  NO_QUERY   \n",
       "152087        0  1932660868  Tue May 26 21:56:15 PDT 2009  NO_QUERY   \n",
       "893401        4  1691862133  Sun May 03 18:46:07 PDT 2009  NO_QUERY   \n",
       "804966        4  1468598407  Tue Apr 07 02:38:35 PDT 2009  NO_QUERY   \n",
       "904224        4  1694791593  Mon May 04 04:08:19 PDT 2009  NO_QUERY   \n",
       "\n",
       "                   user                                               text  \n",
       "1407001   lownleeeynjul  @Boy_Kill_Boy yup! Can DM it too if you want  ...  \n",
       "152087      EnglandRose  @rob_alexander hellz no boiiii. I'm good at th...  \n",
       "893401            lotay            @heathermeeker I would read your blog!   \n",
       "804966   lowcarbondiary  @karmadillo Thanks  @juliankimmings sorted me ...  \n",
       "904224         JMensing           Looking forward to a session at the gym   "
      ]
     },
     "execution_count": 3,
     "metadata": {},
     "output_type": "execute_result"
    }
   ],
   "source": [
    "cols = ['target','ids','date','flag','user','text']\n",
    "df = pd.read_csv('twitter_dataset.csv', encoding=\"ISO-8859-1\", names=cols)\n",
    "df.sample(5)"
   ]
  },
  {
   "cell_type": "code",
   "execution_count": 4,
   "id": "c83b23f9-f803-4fb4-995a-19bcaa45db77",
   "metadata": {},
   "outputs": [
    {
     "data": {
      "text/html": [
       "<div>\n",
       "<style scoped>\n",
       "    .dataframe tbody tr th:only-of-type {\n",
       "        vertical-align: middle;\n",
       "    }\n",
       "\n",
       "    .dataframe tbody tr th {\n",
       "        vertical-align: top;\n",
       "    }\n",
       "\n",
       "    .dataframe thead th {\n",
       "        text-align: right;\n",
       "    }\n",
       "</style>\n",
       "<table border=\"1\" class=\"dataframe\">\n",
       "  <thead>\n",
       "    <tr style=\"text-align: right;\">\n",
       "      <th></th>\n",
       "      <th>target</th>\n",
       "      <th>ids</th>\n",
       "      <th>date</th>\n",
       "      <th>flag</th>\n",
       "      <th>user</th>\n",
       "      <th>text</th>\n",
       "    </tr>\n",
       "  </thead>\n",
       "  <tbody>\n",
       "    <tr>\n",
       "      <th>0</th>\n",
       "      <td>0</td>\n",
       "      <td>1467810369</td>\n",
       "      <td>Mon Apr 06 22:19:45 PDT 2009</td>\n",
       "      <td>NO_QUERY</td>\n",
       "      <td>_TheSpecialOne_</td>\n",
       "      <td>@switchfoot http://twitpic.com/2y1zl - Awww, t...</td>\n",
       "    </tr>\n",
       "    <tr>\n",
       "      <th>1</th>\n",
       "      <td>0</td>\n",
       "      <td>1467810672</td>\n",
       "      <td>Mon Apr 06 22:19:49 PDT 2009</td>\n",
       "      <td>NO_QUERY</td>\n",
       "      <td>scotthamilton</td>\n",
       "      <td>is upset that he can't update his Facebook by ...</td>\n",
       "    </tr>\n",
       "    <tr>\n",
       "      <th>2</th>\n",
       "      <td>0</td>\n",
       "      <td>1467810917</td>\n",
       "      <td>Mon Apr 06 22:19:53 PDT 2009</td>\n",
       "      <td>NO_QUERY</td>\n",
       "      <td>mattycus</td>\n",
       "      <td>@Kenichan I dived many times for the ball. Man...</td>\n",
       "    </tr>\n",
       "    <tr>\n",
       "      <th>3</th>\n",
       "      <td>0</td>\n",
       "      <td>1467811184</td>\n",
       "      <td>Mon Apr 06 22:19:57 PDT 2009</td>\n",
       "      <td>NO_QUERY</td>\n",
       "      <td>ElleCTF</td>\n",
       "      <td>my whole body feels itchy and like its on fire</td>\n",
       "    </tr>\n",
       "    <tr>\n",
       "      <th>4</th>\n",
       "      <td>0</td>\n",
       "      <td>1467811193</td>\n",
       "      <td>Mon Apr 06 22:19:57 PDT 2009</td>\n",
       "      <td>NO_QUERY</td>\n",
       "      <td>Karoli</td>\n",
       "      <td>@nationwideclass no, it's not behaving at all....</td>\n",
       "    </tr>\n",
       "  </tbody>\n",
       "</table>\n",
       "</div>"
      ],
      "text/plain": [
       "   target         ids                          date      flag  \\\n",
       "0       0  1467810369  Mon Apr 06 22:19:45 PDT 2009  NO_QUERY   \n",
       "1       0  1467810672  Mon Apr 06 22:19:49 PDT 2009  NO_QUERY   \n",
       "2       0  1467810917  Mon Apr 06 22:19:53 PDT 2009  NO_QUERY   \n",
       "3       0  1467811184  Mon Apr 06 22:19:57 PDT 2009  NO_QUERY   \n",
       "4       0  1467811193  Mon Apr 06 22:19:57 PDT 2009  NO_QUERY   \n",
       "\n",
       "              user                                               text  \n",
       "0  _TheSpecialOne_  @switchfoot http://twitpic.com/2y1zl - Awww, t...  \n",
       "1    scotthamilton  is upset that he can't update his Facebook by ...  \n",
       "2         mattycus  @Kenichan I dived many times for the ball. Man...  \n",
       "3          ElleCTF    my whole body feels itchy and like its on fire   \n",
       "4           Karoli  @nationwideclass no, it's not behaving at all....  "
      ]
     },
     "execution_count": 4,
     "metadata": {},
     "output_type": "execute_result"
    }
   ],
   "source": [
    "df.head()"
   ]
  },
  {
   "cell_type": "code",
   "execution_count": 5,
   "id": "da638b0d-5e58-4ef9-abf8-b325a29fd070",
   "metadata": {},
   "outputs": [
    {
     "data": {
      "text/plain": [
       "Index(['target', 'ids', 'date', 'flag', 'user', 'text'], dtype='object')"
      ]
     },
     "execution_count": 5,
     "metadata": {},
     "output_type": "execute_result"
    }
   ],
   "source": [
    "df.columns"
   ]
  },
  {
   "cell_type": "code",
   "execution_count": 6,
   "id": "a19b0c82-b065-4376-a39b-0239adea83ea",
   "metadata": {},
   "outputs": [
    {
     "data": {
      "text/plain": [
       "array([0, 4], dtype=int64)"
      ]
     },
     "execution_count": 6,
     "metadata": {},
     "output_type": "execute_result"
    }
   ],
   "source": [
    "df['target'].unique()"
   ]
  },
  {
   "cell_type": "code",
   "execution_count": 7,
   "id": "3ff22709-bdf8-4789-b37a-6161c9da08cc",
   "metadata": {},
   "outputs": [
    {
     "data": {
      "text/plain": [
       "(1600000, 6)"
      ]
     },
     "execution_count": 7,
     "metadata": {},
     "output_type": "execute_result"
    }
   ],
   "source": [
    "df.drop_duplicates(inplace=True)\n",
    "df.shape"
   ]
  },
  {
   "cell_type": "code",
   "execution_count": 8,
   "id": "2f67b21f-4ce1-4a6c-981d-2d4c7339f8c3",
   "metadata": {},
   "outputs": [
    {
     "name": "stdout",
     "output_type": "stream",
     "text": [
      "<class 'pandas.core.frame.DataFrame'>\n",
      "Int64Index: 1600000 entries, 0 to 1599999\n",
      "Data columns (total 6 columns):\n",
      " #   Column  Non-Null Count    Dtype \n",
      "---  ------  --------------    ----- \n",
      " 0   target  1600000 non-null  int64 \n",
      " 1   ids     1600000 non-null  int64 \n",
      " 2   date    1600000 non-null  object\n",
      " 3   flag    1600000 non-null  object\n",
      " 4   user    1600000 non-null  object\n",
      " 5   text    1600000 non-null  object\n",
      "dtypes: int64(2), object(4)\n",
      "memory usage: 85.4+ MB\n"
     ]
    }
   ],
   "source": [
    "df.info()"
   ]
  },
  {
   "cell_type": "code",
   "execution_count": 9,
   "id": "a9598dae-5743-47f6-aa86-b5819e29f2cb",
   "metadata": {},
   "outputs": [
    {
     "data": {
      "text/html": [
       "<div>\n",
       "<style scoped>\n",
       "    .dataframe tbody tr th:only-of-type {\n",
       "        vertical-align: middle;\n",
       "    }\n",
       "\n",
       "    .dataframe tbody tr th {\n",
       "        vertical-align: top;\n",
       "    }\n",
       "\n",
       "    .dataframe thead th {\n",
       "        text-align: right;\n",
       "    }\n",
       "</style>\n",
       "<table border=\"1\" class=\"dataframe\">\n",
       "  <thead>\n",
       "    <tr style=\"text-align: right;\">\n",
       "      <th></th>\n",
       "      <th>ids</th>\n",
       "      <th>date</th>\n",
       "      <th>flag</th>\n",
       "      <th>user</th>\n",
       "      <th>text</th>\n",
       "    </tr>\n",
       "    <tr>\n",
       "      <th>target</th>\n",
       "      <th></th>\n",
       "      <th></th>\n",
       "      <th></th>\n",
       "      <th></th>\n",
       "      <th></th>\n",
       "    </tr>\n",
       "  </thead>\n",
       "  <tbody>\n",
       "    <tr>\n",
       "      <th>0</th>\n",
       "      <td>800000</td>\n",
       "      <td>800000</td>\n",
       "      <td>800000</td>\n",
       "      <td>800000</td>\n",
       "      <td>800000</td>\n",
       "    </tr>\n",
       "    <tr>\n",
       "      <th>4</th>\n",
       "      <td>800000</td>\n",
       "      <td>800000</td>\n",
       "      <td>800000</td>\n",
       "      <td>800000</td>\n",
       "      <td>800000</td>\n",
       "    </tr>\n",
       "  </tbody>\n",
       "</table>\n",
       "</div>"
      ],
      "text/plain": [
       "           ids    date    flag    user    text\n",
       "target                                        \n",
       "0       800000  800000  800000  800000  800000\n",
       "4       800000  800000  800000  800000  800000"
      ]
     },
     "execution_count": 9,
     "metadata": {},
     "output_type": "execute_result"
    }
   ],
   "source": [
    "df.groupby('target').count()"
   ]
  },
  {
   "cell_type": "code",
   "execution_count": 10,
   "id": "c57f7fbc-e823-4a8d-b873-b72fff0ea11c",
   "metadata": {},
   "outputs": [
    {
     "data": {
      "image/png": "[encoded data removed]",
      "text/plain": [
       "<Figure size 640x480 with 1 Axes>"
      ]
     },
     "metadata": {},
     "output_type": "display_data"
    }
   ],
   "source": [
    "#data visualiation\n",
    "ax = df.groupby('target').count().plot(kind='bar', title='Distribution of data',legend=False)\n",
    "ax.set_xticklabels(['Negative','Positive'], rotation=0)\n",
    "text, sentiment = list(df['text']), list(df['target'])"
   ]
  },
  {
   "cell_type": "code",
   "execution_count": 11,
   "id": "61062d7d-2226-48e1-a283-a61132f5798f",
   "metadata": {},
   "outputs": [
    {
     "data": {
      "text/plain": [
       "<AxesSubplot:xlabel='target', ylabel='count'>"
      ]
     },
     "execution_count": 11,
     "metadata": {},
     "output_type": "execute_result"
    },
    {
     "data": {
      "image/png": "[encoded data removed]",
      "text/plain": [
       "<Figure size 640x480 with 1 Axes>"
      ]
     },
     "metadata": {},
     "output_type": "display_data"
    }
   ],
   "source": [
    "import seaborn as sns\n",
    "sns.countplot(x='target', data=df)"
   ]
  },
  {
   "cell_type": "code",
   "execution_count": 12,
   "id": "09fb2a28-794e-41fa-9ef1-bb4e80225746",
   "metadata": {},
   "outputs": [
    {
     "name": "stderr",
     "output_type": "stream",
     "text": [
      "C:\\Users\\Amogh\\AppData\\Local\\Temp\\ipykernel_14972\\2885864949.py:2: SettingWithCopyWarning: \n",
      "A value is trying to be set on a copy of a slice from a DataFrame\n",
      "\n",
      "See the caveats in the documentation: https://pandas.pydata.org/pandas-docs/stable/user_guide/indexing.html#returning-a-view-versus-a-copy\n",
      "  data.drop_duplicates(inplace=True)\n"
     ]
    },
    {
     "data": {
      "text/plain": [
       "(1583691, 2)"
      ]
     },
     "execution_count": 12,
     "metadata": {},
     "output_type": "execute_result"
    }
   ],
   "source": [
    "data=df[['text','target']]\n",
    "data.drop_duplicates(inplace=True)\n",
    "data.shape"
   ]
  },
  {
   "cell_type": "code",
   "execution_count": 13,
   "id": "c4307e80-33dd-47bf-89ad-53a852c7693d",
   "metadata": {},
   "outputs": [
    {
     "name": "stderr",
     "output_type": "stream",
     "text": [
      "C:\\Users\\Amogh\\AppData\\Local\\Temp\\ipykernel_14972\\2207005518.py:1: SettingWithCopyWarning: \n",
      "A value is trying to be set on a copy of a slice from a DataFrame.\n",
      "Try using .loc[row_indexer,col_indexer] = value instead\n",
      "\n",
      "See the caveats in the documentation: https://pandas.pydata.org/pandas-docs/stable/user_guide/indexing.html#returning-a-view-versus-a-copy\n",
      "  data['target'] = data['target'].replace(4,1)\n"
     ]
    }
   ],
   "source": [
    "data['target'] = data['target'].replace(4,1)\n",
    "#assign 1 for positive for understanding"
   ]
  },
  {
   "cell_type": "code",
   "execution_count": 14,
   "id": "25be9076-4163-4795-9a2c-155cc1825853",
   "metadata": {},
   "outputs": [
    {
     "data": {
      "text/plain": [
       "array([0, 1], dtype=int64)"
      ]
     },
     "execution_count": 14,
     "metadata": {},
     "output_type": "execute_result"
    }
   ],
   "source": [
    "data['target'].unique()"
   ]
  },
  {
   "cell_type": "code",
   "execution_count": 21,
   "id": "5f507f5b-c144-4d0b-a86c-4520414d6ea3",
   "metadata": {},
   "outputs": [
    {
     "name": "stdout",
     "output_type": "stream",
     "text": [
      "(793506, 2) (790185, 2)\n"
     ]
    }
   ],
   "source": [
    "data_pos = data[data['target']==1]\n",
    "data_neg = data[data['target']==0]\n",
    "print(data_pos.shape, data_neg.shape)"
   ]
  },
  {
   "cell_type": "code",
   "execution_count": 22,
   "id": "7e87c7da-12cb-4fee-9c96-9d2a9977c0f5",
   "metadata": {},
   "outputs": [],
   "source": [
    "# taking only 25k rows for understanding\n",
    "data_pos = data_pos.iloc[:int(25000)]\n",
    "data_neg = data_neg.iloc[:int(25000)]"
   ]
  },
  {
   "cell_type": "code",
   "execution_count": 23,
   "id": "a8bf1e18-2965-4ded-ac0f-b9ebab0fb320",
   "metadata": {},
   "outputs": [
    {
     "name": "stdout",
     "output_type": "stream",
     "text": [
      "(25000, 2) (25000, 2)\n"
     ]
    }
   ],
   "source": [
    "print(data_pos.shape, data_neg.shape)"
   ]
  },
  {
   "cell_type": "code",
   "execution_count": 79,
   "id": "a69bd928-2aea-4278-bbe1-9674be41018a",
   "metadata": {},
   "outputs": [
    {
     "data": {
      "text/plain": [
       "(50000, 2)"
      ]
     },
     "execution_count": 79,
     "metadata": {},
     "output_type": "execute_result"
    }
   ],
   "source": [
    "dataset = pd.concat([data_pos, data_neg])\n",
    "dataset.shape"
   ]
  },
  {
   "cell_type": "code",
   "execution_count": 80,
   "id": "9170dcab-c646-48ac-b185-fa8f8fb0f889",
   "metadata": {},
   "outputs": [
    {
     "data": {
      "text/plain": [
       "25114    @jempolitico me too, howeeer i think the fries...\n",
       "25115    @daskatzi apparently dust after a rewire will ...\n",
       "25116    @tokyodriftmovie oh really?it is the warehouse...\n",
       "25117    to my credit there i was traumatized by an inc...\n",
       "25118      @versace5 it won't be the same without you!!!  \n",
       "Name: text, dtype: object"
      ]
     },
     "execution_count": 80,
     "metadata": {},
     "output_type": "execute_result"
    }
   ],
   "source": [
    "dataset['text']=dataset['text'].str.lower()\n",
    "dataset['text'].tail()"
   ]
  },
  {
   "cell_type": "code",
   "execution_count": 81,
   "id": "a8d9a21f-fd57-4d76-bbd7-6fb0f86ea908",
   "metadata": {},
   "outputs": [
    {
     "name": "stdout",
     "output_type": "stream",
     "text": [
      "{'been', 'before', 'or', 'doing', 'more', 'any', 'that', 'off', 'ours', 'above', 'their', 'needn', 'on', 'just', 'should', 've', 'won', 'here', 'below', 'against', 'for', 'shan', 'same', 'how', 'a', 'ain', 'whom', 'haven', \"aren't\", \"wouldn't\", 'until', 'no', \"won't\", 'each', 'himself', 'during', 'shouldn', 'can', \"it's\", 'm', 'then', 'you', 'will', 'both', 'y', 'll', 'themselves', 'him', 'hadn', 'am', 'them', 'he', 's', 'while', 'at', 'again', 'those', 'didn', 'mustn', 'because', 'hers', 'over', 'where', 'we', 'theirs', 'under', 'wasn', 'had', 'they', 'have', \"she's\", 'into', \"shouldn't\", 'such', 'when', 'be', \"mustn't\", 'after', \"you've\", \"don't\", 'now', 'me', 'has', 'too', 'doesn', \"hasn't\", 'i', 'her', 'ma', \"shan't\", 'between', 'few', 'out', 'not', 't', 'the', 'your', 'some', \"you'd\", 'its', 'myself', 'isn', \"weren't\", \"mightn't\", 'ourselves', 'with', \"couldn't\", 'most', 'was', 'from', 'my', 'but', 'she', 'are', 'were', 'having', \"should've\", 'yourselves', 'being', 'this', \"you'll\", 'his', 'weren', \"you're\", 'of', 'mightn', 'these', 'and', 'only', 'who', 'do', 'all', 'so', 'is', 'which', 'down', 'it', 'aren', \"that'll\", 'to', 'about', \"needn't\", \"doesn't\", 'o', 'yourself', 're', \"haven't\", 'by', \"didn't\", 'if', 'what', 'other', 'hasn', 'd', 'itself', 'wouldn', 'did', 'there', 'herself', 'an', 'very', 'our', 'yours', 'couldn', 'through', 'nor', 'than', 'further', 'in', 'as', 'don', \"wasn't\", 'once', 'why', \"hadn't\", 'does', 'up', \"isn't\", 'own'}\n"
     ]
    }
   ],
   "source": [
    "stop_words = set(stopwords.words('english'))\n",
    "print(stop_words)"
   ]
  },
  {
   "cell_type": "markdown",
   "id": "2413ada2-40bf-4c29-adcc-a1c35a537672",
   "metadata": {},
   "source": [
    "### Remove stopwords, punctuations, numbers and links for obtaining more accuracy"
   ]
  },
  {
   "cell_type": "code",
   "execution_count": 82,
   "id": "3b2d7cc8-44c3-4400-9562-09ff1a41b342",
   "metadata": {},
   "outputs": [],
   "source": [
    "def cleaning_stopwords(text):\n",
    "    return \" \".join([word for word in str(text).split() if word not in stop_words])\n",
    "dataset['text'] = dataset['text'].apply(lambda text: cleaning_stopwords(text))\n",
    "dataset['text'].head()"
   ]
  },
  {
   "cell_type": "code",
   "execution_count": 84,
   "id": "b967cd8b-791d-4082-9952-581d4719518e",
   "metadata": {},
   "outputs": [
    {
     "data": {
      "text/plain": [
       "800000                   love health4uandpets u guys r best\n",
       "800001    im meeting one besties tonight cant wait  girl...\n",
       "800002    darealsunisakim thanks twitter add sunisa got ...\n",
       "800003    sick really cheap hurts much eat real food plu...\n",
       "800004                       lovesbrooklyn2 effect everyone\n",
       "Name: text, dtype: object"
      ]
     },
     "execution_count": 84,
     "metadata": {},
     "output_type": "execute_result"
    }
   ],
   "source": [
    "import string\n",
    "english_punctuations = string.punctuation\n",
    "punctuations_list = english_punctuations\n",
    "def cleaning_punctuations(text):\n",
    "    translator = str.maketrans('', '', punctuations_list)\n",
    "    return text.translate(translator)\n",
    "dataset['text']= dataset['text'].apply(lambda x: cleaning_punctuations(x))\n",
    "dataset['text'].head()"
   ]
  },
  {
   "cell_type": "code",
   "execution_count": 85,
   "id": "52f874eb-4886-4d20-86cd-32abca4ec04e",
   "metadata": {},
   "outputs": [
    {
     "data": {
      "text/plain": [
       "'!\"#$%&\\'()*+,-./:;<=>?@[\\\\]^_`{|}~'"
      ]
     },
     "execution_count": 85,
     "metadata": {},
     "output_type": "execute_result"
    }
   ],
   "source": [
    "punctuations_list"
   ]
  },
  {
   "cell_type": "code",
   "execution_count": 86,
   "id": "350f9cc8-062b-470a-8b10-4783c78f7df2",
   "metadata": {},
   "outputs": [
    {
     "data": {
      "text/plain": [
       "25114    jempolitico too howeeer think fries midnight p...\n",
       "25115    daskatzi apparently dust rewire take months cl...\n",
       "25116    tokyodriftmovie oh reallyit warehousehow cool ...\n",
       "25117    credit traumatized incident pup sampson amp ba...\n",
       "25118                                 versace5 without you\n",
       "Name: text, dtype: object"
      ]
     },
     "execution_count": 86,
     "metadata": {},
     "output_type": "execute_result"
    }
   ],
   "source": [
    "def cleaning_repeating_char(text):\n",
    "    return re.sub(r'(.)1+', r'1', text)\n",
    "dataset['text'] = dataset['text'].apply(lambda x: cleaning_repeating_char(x))\n",
    "dataset['text'].tail()"
   ]
  },
  {
   "cell_type": "code",
   "execution_count": 87,
   "id": "675bb7aa-c24e-4dae-8bd0-08f001890d3c",
   "metadata": {},
   "outputs": [
    {
     "data": {
      "text/plain": [
       "800000                   love health4uandpets u guys r best\n",
       "800001    im meeting one besties tonight cant wait  girl...\n",
       "800002    darealsunisakim thanks twitter add sunisa got ...\n",
       "800003    sick really cheap hurts much eat real food plu...\n",
       "800004                       lovesbrooklyn2 effect everyone\n",
       "Name: text, dtype: object"
      ]
     },
     "execution_count": 87,
     "metadata": {},
     "output_type": "execute_result"
    }
   ],
   "source": [
    "dataset['text'].head()"
   ]
  },
  {
   "cell_type": "code",
   "execution_count": 88,
   "id": "76f735b5-1407-43d2-bbd7-1edaf1804fba",
   "metadata": {},
   "outputs": [
    {
     "data": {
      "text/plain": [
       "25114    jempolitico too howeeer think fries midnight p...\n",
       "25115    daskatzi apparently dust rewire take months cl...\n",
       "25116    tokyodriftmovie oh reallyit warehousehow cool ...\n",
       "25117    credit traumatized incident pup sampson amp ba...\n",
       "25118                                 versace5 without you\n",
       "Name: text, dtype: object"
      ]
     },
     "execution_count": 88,
     "metadata": {},
     "output_type": "execute_result"
    }
   ],
   "source": [
    "def cleaning_URLs(data):\n",
    "    return re.sub('((www.[^s]+)|(https?://[^s]+))',' ',data)\n",
    "dataset['text'] = dataset['text'].apply(lambda x: cleaning_URLs(x))\n",
    "dataset['text'].tail()"
   ]
  },
  {
   "cell_type": "code",
   "execution_count": 89,
   "id": "5def1c71-157f-46e6-a7c3-856e648e5496",
   "metadata": {},
   "outputs": [
    {
     "data": {
      "text/plain": [
       "25114    jempolitico too howeeer think fries midnight p...\n",
       "25115    daskatzi apparently dust rewire take months cl...\n",
       "25116    tokyodriftmovie oh reallyit warehousehow cool ...\n",
       "25117    credit traumatized incident pup sampson amp ba...\n",
       "25118                                  versace without you\n",
       "Name: text, dtype: object"
      ]
     },
     "execution_count": 89,
     "metadata": {},
     "output_type": "execute_result"
    }
   ],
   "source": [
    "def cleaning_numbers(data):\n",
    "    return re.sub('[0-9]+', '', data)\n",
    "dataset['text'] = dataset['text'].apply(lambda x: cleaning_numbers(x))\n",
    "dataset['text'].tail()"
   ]
  },
  {
   "cell_type": "code",
   "execution_count": 90,
   "id": "be284a01-0f25-4424-8673-76cc1a80d2a6",
   "metadata": {},
   "outputs": [
    {
     "data": {
      "text/plain": [
       "800000                    love healthuandpets u guys r best\n",
       "800001    im meeting one besties tonight cant wait  girl...\n",
       "800002    darealsunisakim thanks twitter add sunisa got ...\n",
       "800003    sick really cheap hurts much eat real food plu...\n",
       "800004                        lovesbrooklyn effect everyone\n",
       "Name: text, dtype: object"
      ]
     },
     "execution_count": 90,
     "metadata": {},
     "output_type": "execute_result"
    }
   ],
   "source": [
    "dataset['text'].head()"
   ]
  },
  {
   "cell_type": "code",
   "execution_count": 91,
   "id": "e52b5da1-f21c-4c34-9ffb-f9f35de28665",
   "metadata": {},
   "outputs": [
    {
     "data": {
      "text/plain": [
       "800000             [love, healthuandpets, u, guys, r, best]\n",
       "800001    [im, meeting, one, besties, tonight, cant, wai...\n",
       "800002    [darealsunisakim, thanks, twitter, add, sunisa...\n",
       "800003    [sick, really, cheap, hurts, much, eat, real, ...\n",
       "800004                    [lovesbrooklyn, effect, everyone]\n",
       "Name: text, dtype: object"
      ]
     },
     "execution_count": 91,
     "metadata": {},
     "output_type": "execute_result"
    }
   ],
   "source": [
    "from nltk.tokenize import TweetTokenizer\n",
    "tt = TweetTokenizer()\n",
    "dataset['text'] = dataset['text'].apply(tt.tokenize)\n",
    "dataset['text'].head()"
   ]
  },
  {
   "cell_type": "code",
   "execution_count": 92,
   "id": "32e5c2c1-de64-4039-a568-a86fd62d47fe",
   "metadata": {},
   "outputs": [
    {
     "data": {
      "text/plain": [
       "25114    [jempolitico, too, howeeer, think, fries, midn...\n",
       "25115    [daskatzi, apparently, dust, rewire, take, mon...\n",
       "25116    [tokyodriftmovie, oh, reallyit, warehousehow, ...\n",
       "25117    [credit, traumatized, incident, pup, sampson, ...\n",
       "25118                              [versace, without, you]\n",
       "Name: text, dtype: object"
      ]
     },
     "execution_count": 92,
     "metadata": {},
     "output_type": "execute_result"
    }
   ],
   "source": [
    "dataset['text'].tail()"
   ]
  },
  {
   "cell_type": "markdown",
   "id": "ffe4b734-cb37-4aa4-b9db-532d4568c778",
   "metadata": {},
   "source": [
    "### lemmatising the data"
   ]
  },
  {
   "cell_type": "code",
   "execution_count": 93,
   "id": "ad1ad6be-3bd9-40a9-8522-bf3db23d001c",
   "metadata": {},
   "outputs": [
    {
     "data": {
      "text/plain": [
       "800000             [love, healthuandpets, u, guys, r, best]\n",
       "800001    [im, meeting, one, besties, tonight, cant, wai...\n",
       "800002    [darealsunisakim, thanks, twitter, add, sunisa...\n",
       "800003    [sick, really, cheap, hurts, much, eat, real, ...\n",
       "800004                    [lovesbrooklyn, effect, everyone]\n",
       "Name: text, dtype: object"
      ]
     },
     "execution_count": 93,
     "metadata": {},
     "output_type": "execute_result"
    }
   ],
   "source": [
    "import nltk\n",
    "lm = nltk.WordNetLemmatizer()\n",
    "def lemmatizer_on_text(data):\n",
    "    text = [lm.lemmatize(word) for word in data]\n",
    "    return data\n",
    "dataset['text'] = dataset['text'].apply(lambda x: lemmatizer_on_text(x))\n",
    "dataset['text'].head()"
   ]
  },
  {
   "cell_type": "code",
   "execution_count": 94,
   "id": "4a51a5de-3fc5-42d1-a290-c39ea7d4d8e8",
   "metadata": {},
   "outputs": [],
   "source": [
    "from sklearn.utils import shuffle\n",
    "dataset = shuffle(dataset)"
   ]
  },
  {
   "cell_type": "code",
   "execution_count": 95,
   "id": "37421931-0cbd-465a-85a6-06fc4e137e67",
   "metadata": {},
   "outputs": [],
   "source": [
    "def convert_to_text(list):\n",
    "    return \" \".join(list)\n",
    "dataset['text'] = dataset['text'].apply(lambda x: convert_to_text(x))"
   ]
  },
  {
   "cell_type": "code",
   "execution_count": 96,
   "id": "d5fee6e3-4b7e-4507-95a4-84279c8a9b4e",
   "metadata": {},
   "outputs": [
    {
     "data": {
      "text/html": [
       "<div>\n",
       "<style scoped>\n",
       "    .dataframe tbody tr th:only-of-type {\n",
       "        vertical-align: middle;\n",
       "    }\n",
       "\n",
       "    .dataframe tbody tr th {\n",
       "        vertical-align: top;\n",
       "    }\n",
       "\n",
       "    .dataframe thead th {\n",
       "        text-align: right;\n",
       "    }\n",
       "</style>\n",
       "<table border=\"1\" class=\"dataframe\">\n",
       "  <thead>\n",
       "    <tr style=\"text-align: right;\">\n",
       "      <th></th>\n",
       "      <th>text</th>\n",
       "      <th>target</th>\n",
       "    </tr>\n",
       "  </thead>\n",
       "  <tbody>\n",
       "    <tr>\n",
       "      <th>818638</th>\n",
       "      <td>thats myspacecom haha</td>\n",
       "      <td>1</td>\n",
       "    </tr>\n",
       "    <tr>\n",
       "      <th>806841</th>\n",
       "      <td>shiminay fair enough surprisingly like it espe...</td>\n",
       "      <td>1</td>\n",
       "    </tr>\n",
       "    <tr>\n",
       "      <th>21118</th>\n",
       "      <td>keen big fat greasy double possibly triple che...</td>\n",
       "      <td>0</td>\n",
       "    </tr>\n",
       "    <tr>\n",
       "      <th>14259</th>\n",
       "      <td>bearnoiz shame died uh obviously know mean</td>\n",
       "      <td>0</td>\n",
       "    </tr>\n",
       "    <tr>\n",
       "      <th>7375</th>\n",
       "      <td>soo bored really wants go nottingham</td>\n",
       "      <td>0</td>\n",
       "    </tr>\n",
       "  </tbody>\n",
       "</table>\n",
       "</div>"
      ],
      "text/plain": [
       "                                                     text  target\n",
       "818638                              thats myspacecom haha       1\n",
       "806841  shiminay fair enough surprisingly like it espe...       1\n",
       "21118   keen big fat greasy double possibly triple che...       0\n",
       "14259          bearnoiz shame died uh obviously know mean       0\n",
       "7375                 soo bored really wants go nottingham       0"
      ]
     },
     "execution_count": 96,
     "metadata": {},
     "output_type": "execute_result"
    }
   ],
   "source": [
    "dataset.head()"
   ]
  },
  {
   "cell_type": "code",
   "execution_count": 97,
   "id": "bef4cc00-8d68-45d2-a954-9848e7e9d681",
   "metadata": {},
   "outputs": [],
   "source": [
    "#machine learning\n",
    "#split data to x and y\n",
    "X=dataset.text\n",
    "y=dataset.target"
   ]
  },
  {
   "cell_type": "markdown",
   "id": "bd915a52-a817-4a8b-9da3-30ed9f03d1d1",
   "metadata": {},
   "source": [
    "### split the dataset, testing size of 20%"
   ]
  },
  {
   "cell_type": "code",
   "execution_count": 98,
   "id": "13e4db3d-8be4-4333-9635-3ed0da105cba",
   "metadata": {},
   "outputs": [],
   "source": [
    "x_train, x_test, y_train, y_test = train_test_split(X,y,test_size = 0.2)"
   ]
  },
  {
   "cell_type": "code",
   "execution_count": 99,
   "id": "1c81122c-a02e-4acb-81c0-77e402848eaa",
   "metadata": {},
   "outputs": [
    {
     "data": {
      "text/plain": [
       "(10000,)"
      ]
     },
     "execution_count": 99,
     "metadata": {},
     "output_type": "execute_result"
    }
   ],
   "source": [
    "y_test.shape"
   ]
  },
  {
   "cell_type": "code",
   "execution_count": 100,
   "id": "649e96c2-959b-4cf3-96d0-aa8d46a2e5e8",
   "metadata": {},
   "outputs": [
    {
     "data": {
      "text/plain": [
       "806280                               aw women dead adorable\n",
       "821395    rebeccahaswrote lol lotz types there know lotz...\n",
       "18706            girl likelikes alcohol drugs way better me\n",
       "3578                              httptwitpiccomy miss this\n",
       "823408    the dandy cowboys soko rd soko blip httpblipfm...\n",
       "                                ...                        \n",
       "812061                                         couch potato\n",
       "11983       tarafan aww badness hope buy another pretty one\n",
       "815173    guess swollen neckshoulder again hmmmm must ca...\n",
       "806226    johmoi no yet first time ive really disclosed ...\n",
       "823274                        ready head vegas need new tat\n",
       "Name: text, Length: 40000, dtype: object"
      ]
     },
     "execution_count": 100,
     "metadata": {},
     "output_type": "execute_result"
    }
   ],
   "source": [
    "x_train"
   ]
  },
  {
   "cell_type": "markdown",
   "id": "d6679254-a461-456a-805d-0e42c1b42035",
   "metadata": {},
   "source": [
    "### vectorising the data using TfidfVectoriser"
   ]
  },
  {
   "cell_type": "code",
   "execution_count": 102,
   "id": "75fee811-b179-4d58-bf83-b154ef4080fc",
   "metadata": {},
   "outputs": [
    {
     "data": {
      "text/html": [
       "<style>#sk-container-id-1 {color: black;}#sk-container-id-1 pre{padding: 0;}#sk-container-id-1 div.sk-toggleable {background-color: white;}#sk-container-id-1 label.sk-toggleable__label {cursor: pointer;display: block;width: 100%;margin-bottom: 0;padding: 0.3em;box-sizing: border-box;text-align: center;}#sk-container-id-1 label.sk-toggleable__label-arrow:before {content: \"▸\";float: left;margin-right: 0.25em;color: #696969;}#sk-container-id-1 label.sk-toggleable__label-arrow:hover:before {color: black;}#sk-container-id-1 div.sk-estimator:hover label.sk-toggleable__label-arrow:before {color: black;}#sk-container-id-1 div.sk-toggleable__content {max-height: 0;max-width: 0;overflow: hidden;text-align: left;background-color: #f0f8ff;}#sk-container-id-1 div.sk-toggleable__content pre {margin: 0.2em;color: black;border-radius: 0.25em;background-color: #f0f8ff;}#sk-container-id-1 input.sk-toggleable__control:checked~div.sk-toggleable__content {max-height: 200px;max-width: 100%;overflow: auto;}#sk-container-id-1 input.sk-toggleable__control:checked~label.sk-toggleable__label-arrow:before {content: \"▾\";}#sk-container-id-1 div.sk-estimator input.sk-toggleable__control:checked~label.sk-toggleable__label {background-color: #d4ebff;}#sk-container-id-1 div.sk-label input.sk-toggleable__control:checked~label.sk-toggleable__label {background-color: #d4ebff;}#sk-container-id-1 input.sk-hidden--visually {border: 0;clip: rect(1px 1px 1px 1px);clip: rect(1px, 1px, 1px, 1px);height: 1px;margin: -1px;overflow: hidden;padding: 0;position: absolute;width: 1px;}#sk-container-id-1 div.sk-estimator {font-family: monospace;background-color: #f0f8ff;border: 1px dotted black;border-radius: 0.25em;box-sizing: border-box;margin-bottom: 0.5em;}#sk-container-id-1 div.sk-estimator:hover {background-color: #d4ebff;}#sk-container-id-1 div.sk-parallel-item::after {content: \"\";width: 100%;border-bottom: 1px solid gray;flex-grow: 1;}#sk-container-id-1 div.sk-label:hover label.sk-toggleable__label {background-color: #d4ebff;}#sk-container-id-1 div.sk-serial::before {content: \"\";position: absolute;border-left: 1px solid gray;box-sizing: border-box;top: 0;bottom: 0;left: 50%;z-index: 0;}#sk-container-id-1 div.sk-serial {display: flex;flex-direction: column;align-items: center;background-color: white;padding-right: 0.2em;padding-left: 0.2em;position: relative;}#sk-container-id-1 div.sk-item {position: relative;z-index: 1;}#sk-container-id-1 div.sk-parallel {display: flex;align-items: stretch;justify-content: center;background-color: white;position: relative;}#sk-container-id-1 div.sk-item::before, #sk-container-id-1 div.sk-parallel-item::before {content: \"\";position: absolute;border-left: 1px solid gray;box-sizing: border-box;top: 0;bottom: 0;left: 50%;z-index: -1;}#sk-container-id-1 div.sk-parallel-item {display: flex;flex-direction: column;z-index: 1;position: relative;background-color: white;}#sk-container-id-1 div.sk-parallel-item:first-child::after {align-self: flex-end;width: 50%;}#sk-container-id-1 div.sk-parallel-item:last-child::after {align-self: flex-start;width: 50%;}#sk-container-id-1 div.sk-parallel-item:only-child::after {width: 0;}#sk-container-id-1 div.sk-dashed-wrapped {border: 1px dashed gray;margin: 0 0.4em 0.5em 0.4em;box-sizing: border-box;padding-bottom: 0.4em;background-color: white;}#sk-container-id-1 div.sk-label label {font-family: monospace;font-weight: bold;display: inline-block;line-height: 1.2em;}#sk-container-id-1 div.sk-label-container {text-align: center;}#sk-container-id-1 div.sk-container {/* jupyter's `normalize.less` sets `[hidden] { display: none; }` but bootstrap.min.css set `[hidden] { display: none !important; }` so we also need the `!important` here to be able to override the default hidden behavior on the sphinx rendered scikit-learn.org. See: https://github.com/scikit-learn/scikit-learn/issues/21755 */display: inline-block !important;position: relative;}#sk-container-id-1 div.sk-text-repr-fallback {display: none;}</style><div id=\"sk-container-id-1\" class=\"sk-top-container\"><div class=\"sk-text-repr-fallback\"><pre>TfidfVectorizer(max_features=500000, ngram_range=(1, 2))</pre><b>In a Jupyter environment, please rerun this cell to show the HTML representation or trust the notebook. <br />On GitHub, the HTML representation is unable to render, please try loading this page with nbviewer.org.</b></div><div class=\"sk-container\" hidden><div class=\"sk-item\"><div class=\"sk-estimator sk-toggleable\"><input class=\"sk-toggleable__control sk-hidden--visually\" id=\"sk-estimator-id-1\" type=\"checkbox\" checked><label for=\"sk-estimator-id-1\" class=\"sk-toggleable__label sk-toggleable__label-arrow\">TfidfVectorizer</label><div class=\"sk-toggleable__content\"><pre>TfidfVectorizer(max_features=500000, ngram_range=(1, 2))</pre></div></div></div></div></div>"
      ],
      "text/plain": [
       "TfidfVectorizer(max_features=500000, ngram_range=(1, 2))"
      ]
     },
     "execution_count": 102,
     "metadata": {},
     "output_type": "execute_result"
    }
   ],
   "source": [
    "vectoriser = TfidfVectorizer(ngram_range=(1,2), max_features=500000)\n",
    "vectoriser.fit(x_train)"
   ]
  },
  {
   "cell_type": "code",
   "execution_count": 103,
   "id": "d5ba7893-132d-4046-ab27-f5b27e2d629f",
   "metadata": {},
   "outputs": [],
   "source": [
    "x_train = vectoriser.transform(x_train)\n",
    "x_test  = vectoriser.transform(x_test)"
   ]
  },
  {
   "cell_type": "code",
   "execution_count": 118,
   "id": "de2a47c6-cf40-4938-b143-9f783a1a17d5",
   "metadata": {},
   "outputs": [],
   "source": [
    "def evaluate_model(model):\n",
    "    y_pred = model.predict(x_test)\n",
    "    print(classification_report(y_test, y_pred))\n",
    "    cf_matrix = confusion_matrix(y_test, y_pred)\n",
    "    print(cf_matrix)"
   ]
  },
  {
   "cell_type": "markdown",
   "id": "b95fbbed-384a-4cf1-8b2b-8ffabd1535e9",
   "metadata": {},
   "source": [
    "### LinearRegression model"
   ]
  },
  {
   "cell_type": "code",
   "execution_count": 119,
   "id": "e28aed42-f3c1-4efe-8f69-f97004cd3960",
   "metadata": {},
   "outputs": [
    {
     "name": "stdout",
     "output_type": "stream",
     "text": [
      "              precision    recall  f1-score   support\n",
      "\n",
      "           0       0.74      0.77      0.76      4995\n",
      "           1       0.76      0.74      0.75      5005\n",
      "\n",
      "    accuracy                           0.75     10000\n",
      "   macro avg       0.75      0.75      0.75     10000\n",
      "weighted avg       0.75      0.75      0.75     10000\n",
      "\n",
      "[[3833 1162]\n",
      " [1324 3681]]\n"
     ]
    }
   ],
   "source": [
    "LRmodel = LogisticRegression(C = 2, max_iter = 1000, n_jobs=-1)\n",
    "LRmodel.fit(x_train, y_train)\n",
    "evaluate_model(LRmodel)\n",
    "y_pred1 = LRmodel.predict(x_test)"
   ]
  },
  {
   "cell_type": "markdown",
   "id": "704a2d3d-2c45-47c9-b6a3-e7c1fab3ff3c",
   "metadata": {},
   "source": [
    "### SVM model"
   ]
  },
  {
   "cell_type": "code",
   "execution_count": 121,
   "id": "622b2e97-c685-42b3-bb3e-53baca38a0f3",
   "metadata": {},
   "outputs": [
    {
     "name": "stderr",
     "output_type": "stream",
     "text": [
      "c:\\users\\amogh\\appdata\\local\\programs\\python\\python39\\lib\\site-packages\\sklearn\\svm\\_classes.py:32: FutureWarning: The default value of `dual` will change from `True` to `'auto'` in 1.5. Set the value of `dual` explicitly to suppress the warning.\n",
      "  warnings.warn(\n"
     ]
    },
    {
     "name": "stdout",
     "output_type": "stream",
     "text": [
      "              precision    recall  f1-score   support\n",
      "\n",
      "           0       0.74      0.77      0.75      4995\n",
      "           1       0.76      0.73      0.75      5005\n",
      "\n",
      "    accuracy                           0.75     10000\n",
      "   macro avg       0.75      0.75      0.75     10000\n",
      "weighted avg       0.75      0.75      0.75     10000\n",
      "\n",
      "[[3834 1161]\n",
      " [1334 3671]]\n"
     ]
    }
   ],
   "source": [
    "SVCmodel = LinearSVC()\n",
    "SVCmodel.fit(x_train, y_train)\n",
    "evaluate_model(SVCmodel)\n",
    "y_pred2 = SVCmodel.predict(x_test)"
   ]
  },
  {
   "cell_type": "code",
   "execution_count": null,
   "id": "aa5fa8b2-f30a-4595-bb62-297c946020a1",
   "metadata": {},
   "outputs": [],
   "source": []
  },
  {
   "cell_type": "code",
   "execution_count": null,
   "id": "75ed6108-192a-4f0e-855a-6fc21bdb00b9",
   "metadata": {},
   "outputs": [],
   "source": []
  }
 ],
 "metadata": {
  "kernelspec": {
   "display_name": "Python 3 (ipykernel)",
   "language": "python",
   "name": "python3"
  },
  "language_info": {
   "codemirror_mode": {
    "name": "ipython",
    "version": 3
   },
   "file_extension": ".py",
   "mimetype": "text/x-python",
   "name": "python",
   "nbconvert_exporter": "python",
   "pygments_lexer": "ipython3",
   "version": "3.9.4"
  }
 },
 "nbformat": 4,
 "nbformat_minor": 5
}
